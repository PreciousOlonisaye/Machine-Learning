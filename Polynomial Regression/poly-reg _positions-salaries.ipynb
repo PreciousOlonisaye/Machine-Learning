{
 "cells": [
  {
   "cell_type": "markdown",
   "metadata": {
    "_cell_guid": "79c7e3d0-c299-4dcb-8224-4455121ee9b0",
    "_uuid": "d629ff2d2480ee46fbb7e2d37f6b5fab8052498a",
    "collapsed": true,
    "papermill": {
     "duration": 0.012401,
     "end_time": "2020-12-26T08:47:03.199536",
     "exception": false,
     "start_time": "2020-12-26T08:47:03.187135",
     "status": "completed"
    },
    "tags": []
   },
   "source": [
    "<p style = \"color:purple; font-size:50px; text-align:center; font-weight:bolder\">Polynimial Regression</p>"
   ]
  },
  {
   "cell_type": "markdown",
   "metadata": {
    "papermill": {
     "duration": 0.009531,
     "end_time": "2020-12-26T08:47:03.219134",
     "exception": false,
     "start_time": "2020-12-26T08:47:03.209603",
     "status": "completed"
    },
    "tags": []
   },
   "source": [
    "I will directly start for coding part by considering you have a basic knowledge of polynomial regression."
   ]
  },
  {
   "cell_type": "markdown",
   "metadata": {
    "papermill": {
     "duration": 0.008562,
     "end_time": "2020-12-26T08:47:03.236837",
     "exception": false,
     "start_time": "2020-12-26T08:47:03.228275",
     "status": "completed"
    },
    "tags": []
   },
   "source": [
    "<p style=\"color:darkorange; font-size:25px; font-weight:bold\">1. Importing libraries</p>"
   ]
  },
  {
   "cell_type": "code",
   "execution_count": 1,
   "metadata": {
    "execution": {
     "iopub.execute_input": "2020-12-26T08:47:03.260318Z",
     "iopub.status.busy": "2020-12-26T08:47:03.258982Z",
     "iopub.status.idle": "2020-12-26T08:47:03.263359Z",
     "shell.execute_reply": "2020-12-26T08:47:03.262699Z"
    },
    "papermill": {
     "duration": 0.01778,
     "end_time": "2020-12-26T08:47:03.263473",
     "exception": false,
     "start_time": "2020-12-26T08:47:03.245693",
     "status": "completed"
    },
    "tags": []
   },
   "outputs": [],
   "source": [
    "import pandas as pd\n",
    "import numpy as np\n",
    "import matplotlib.pyplot as plt"
   ]
  },
  {
   "cell_type": "markdown",
   "metadata": {
    "papermill": {
     "duration": 0.008762,
     "end_time": "2020-12-26T08:47:03.281659",
     "exception": false,
     "start_time": "2020-12-26T08:47:03.272897",
     "status": "completed"
    },
    "tags": []
   },
   "source": [
    "<p style=\"color:darkorange; font-size:25px; font-weight:bold\">2. Loading dataset</p>"
   ]
  },
  {
   "cell_type": "code",
   "execution_count": 2,
   "metadata": {
    "execution": {
     "iopub.execute_input": "2020-12-26T08:47:03.314204Z",
     "iopub.status.busy": "2020-12-26T08:47:03.313537Z",
     "iopub.status.idle": "2020-12-26T08:47:03.341063Z",
     "shell.execute_reply": "2020-12-26T08:47:03.341572Z"
    },
    "papermill": {
     "duration": 0.050761,
     "end_time": "2020-12-26T08:47:03.341726",
     "exception": false,
     "start_time": "2020-12-26T08:47:03.290965",
     "status": "completed"
    },
    "tags": []
   },
   "outputs": [
    {
     "data": {
      "text/html": [
       "<div>\n",
       "<style scoped>\n",
       "    .dataframe tbody tr th:only-of-type {\n",
       "        vertical-align: middle;\n",
       "    }\n",
       "\n",
       "    .dataframe tbody tr th {\n",
       "        vertical-align: top;\n",
       "    }\n",
       "\n",
       "    .dataframe thead th {\n",
       "        text-align: right;\n",
       "    }\n",
       "</style>\n",
       "<table border=\"1\" class=\"dataframe\">\n",
       "  <thead>\n",
       "    <tr style=\"text-align: right;\">\n",
       "      <th></th>\n",
       "      <th>Position</th>\n",
       "      <th>Level</th>\n",
       "      <th>Salary</th>\n",
       "    </tr>\n",
       "  </thead>\n",
       "  <tbody>\n",
       "    <tr>\n",
       "      <th>0</th>\n",
       "      <td>Business Analyst</td>\n",
       "      <td>1</td>\n",
       "      <td>45000</td>\n",
       "    </tr>\n",
       "    <tr>\n",
       "      <th>1</th>\n",
       "      <td>Junior Consultant</td>\n",
       "      <td>2</td>\n",
       "      <td>50000</td>\n",
       "    </tr>\n",
       "    <tr>\n",
       "      <th>2</th>\n",
       "      <td>Senior Consultant</td>\n",
       "      <td>3</td>\n",
       "      <td>60000</td>\n",
       "    </tr>\n",
       "    <tr>\n",
       "      <th>3</th>\n",
       "      <td>Manager</td>\n",
       "      <td>4</td>\n",
       "      <td>80000</td>\n",
       "    </tr>\n",
       "    <tr>\n",
       "      <th>4</th>\n",
       "      <td>Country Manager</td>\n",
       "      <td>5</td>\n",
       "      <td>110000</td>\n",
       "    </tr>\n",
       "  </tbody>\n",
       "</table>\n",
       "</div>"
      ],
      "text/plain": [
       "            Position  Level  Salary\n",
       "0   Business Analyst      1   45000\n",
       "1  Junior Consultant      2   50000\n",
       "2  Senior Consultant      3   60000\n",
       "3            Manager      4   80000\n",
       "4    Country Manager      5  110000"
      ]
     },
     "execution_count": 2,
     "metadata": {},
     "output_type": "execute_result"
    }
   ],
   "source": [
    "df = pd.read_csv('../input/position-salariescsv/Position_Salaries.csv')\n",
    "df.head()"
   ]
  },
  {
   "cell_type": "markdown",
   "metadata": {
    "papermill": {
     "duration": 0.009309,
     "end_time": "2020-12-26T08:47:03.361408",
     "exception": false,
     "start_time": "2020-12-26T08:47:03.352099",
     "status": "completed"
    },
    "tags": []
   },
   "source": [
    "<p style=\"color:darkorange; font-size:25px; font-weight:bold\">3. Storing input and target data</p>"
   ]
  },
  {
   "cell_type": "code",
   "execution_count": 3,
   "metadata": {
    "execution": {
     "iopub.execute_input": "2020-12-26T08:47:03.391367Z",
     "iopub.status.busy": "2020-12-26T08:47:03.390585Z",
     "iopub.status.idle": "2020-12-26T08:47:03.402736Z",
     "shell.execute_reply": "2020-12-26T08:47:03.401773Z"
    },
    "papermill": {
     "duration": 0.026736,
     "end_time": "2020-12-26T08:47:03.402934",
     "exception": false,
     "start_time": "2020-12-26T08:47:03.376198",
     "status": "completed"
    },
    "tags": []
   },
   "outputs": [
    {
     "name": "stdout",
     "output_type": "stream",
     "text": [
      "[[ 1]\n",
      " [ 2]\n",
      " [ 3]\n",
      " [ 4]\n",
      " [ 5]\n",
      " [ 6]\n",
      " [ 7]\n",
      " [ 8]\n",
      " [ 9]\n",
      " [10]] [  45000   50000   60000   80000  110000  150000  200000  300000  500000\n",
      " 1000000]\n"
     ]
    }
   ],
   "source": [
    "x = df.iloc[:, 1:2].values\n",
    "y = df.iloc[:, 2].values \n",
    "print(x, y)"
   ]
  },
  {
   "cell_type": "markdown",
   "metadata": {
    "papermill": {
     "duration": 0.009651,
     "end_time": "2020-12-26T08:47:03.423904",
     "exception": false,
     "start_time": "2020-12-26T08:47:03.414253",
     "status": "completed"
    },
    "tags": []
   },
   "source": [
    "<p style=\"color:darkorange; font-size:25px; font-weight:bold\">4. Visualization of given data</p>"
   ]
  },
  {
   "cell_type": "code",
   "execution_count": 4,
   "metadata": {
    "execution": {
     "iopub.execute_input": "2020-12-26T08:47:03.447853Z",
     "iopub.status.busy": "2020-12-26T08:47:03.446835Z",
     "iopub.status.idle": "2020-12-26T08:47:03.663825Z",
     "shell.execute_reply": "2020-12-26T08:47:03.663322Z"
    },
    "papermill": {
     "duration": 0.230019,
     "end_time": "2020-12-26T08:47:03.663954",
     "exception": false,
     "start_time": "2020-12-26T08:47:03.433935",
     "status": "completed"
    },
    "tags": []
   },
   "outputs": [
    {
     "data": {
      "image/png": "[encoded data removed]",
      "text/plain": [
       "<Figure size 432x288 with 1 Axes>"
      ]
     },
     "metadata": {
      "needs_background": "light"
     },
     "output_type": "display_data"
    }
   ],
   "source": [
    "plt.scatter(x, y)\n",
    "plt.xlabel('Level')\n",
    "plt.ylabel('Salary')\n",
    "plt.show()"
   ]
  },
  {
   "cell_type": "markdown",
   "metadata": {
    "papermill": {
     "duration": 0.010772,
     "end_time": "2020-12-26T08:47:03.685993",
     "exception": false,
     "start_time": "2020-12-26T08:47:03.675221",
     "status": "completed"
    },
    "tags": []
   },
   "source": [
    "<p style=\"color:darkorange; font-size:25px; font-weight:bold\">5. Building polynomial regression model</p> I will create three models with degree 2, 3, and 4."
   ]
  },
  {
   "cell_type": "code",
   "execution_count": 5,
   "metadata": {
    "execution": {
     "iopub.execute_input": "2020-12-26T08:47:03.714206Z",
     "iopub.status.busy": "2020-12-26T08:47:03.713412Z",
     "iopub.status.idle": "2020-12-26T08:47:04.769595Z",
     "shell.execute_reply": "2020-12-26T08:47:04.768934Z"
    },
    "papermill": {
     "duration": 1.072811,
     "end_time": "2020-12-26T08:47:04.769708",
     "exception": false,
     "start_time": "2020-12-26T08:47:03.696897",
     "status": "completed"
    },
    "tags": []
   },
   "outputs": [],
   "source": [
    "from sklearn.preprocessing import PolynomialFeatures\n",
    "poly = PolynomialFeatures(degree= 2)\n",
    "poly3 = PolynomialFeatures(degree= 3)\n",
    "poly4 = PolynomialFeatures(degree= 4)\n",
    "x_poly = poly.fit_transform(x, y)\n",
    "x_poly3 = poly3.fit_transform(x, y)\n",
    "x_poly4 = poly4.fit_transform(x, y)"
   ]
  },
  {
   "cell_type": "markdown",
   "metadata": {
    "papermill": {
     "duration": 0.010281,
     "end_time": "2020-12-26T08:47:04.792958",
     "exception": false,
     "start_time": "2020-12-26T08:47:04.782677",
     "status": "completed"
    },
    "tags": []
   },
   "source": [
    "<p style=\"color:darkorange; font-size:25px; font-weight:bold\">6. Linear model on polynomial data</p>"
   ]
  },
  {
   "cell_type": "code",
   "execution_count": 6,
   "metadata": {
    "execution": {
     "iopub.execute_input": "2020-12-26T08:47:04.820415Z",
     "iopub.status.busy": "2020-12-26T08:47:04.819676Z",
     "iopub.status.idle": "2020-12-26T08:47:05.010153Z",
     "shell.execute_reply": "2020-12-26T08:47:05.010617Z"
    },
    "papermill": {
     "duration": 0.20712,
     "end_time": "2020-12-26T08:47:05.010772",
     "exception": false,
     "start_time": "2020-12-26T08:47:04.803652",
     "status": "completed"
    },
    "tags": []
   },
   "outputs": [
    {
     "data": {
      "text/plain": [
       "LinearRegression()"
      ]
     },
     "execution_count": 6,
     "metadata": {},
     "output_type": "execute_result"
    }
   ],
   "source": [
    "from sklearn.linear_model import LinearRegression\n",
    "model = LinearRegression()\n",
    "model3 = LinearRegression()\n",
    "model4 = LinearRegression()\n",
    "\n",
    "model.fit(x_poly, y)\n",
    "model3.fit(x_poly3, y)\n",
    "model4.fit(x_poly4, y)"
   ]
  },
  {
   "cell_type": "markdown",
   "metadata": {
    "papermill": {
     "duration": 0.010762,
     "end_time": "2020-12-26T08:47:05.032879",
     "exception": false,
     "start_time": "2020-12-26T08:47:05.022117",
     "status": "completed"
    },
    "tags": []
   },
   "source": [
    "<p style=\"color:darkorange; font-size:25px; font-weight:bold\">7. Visualization of polynomial regression with degree 2</p>"
   ]
  },
  {
   "cell_type": "code",
   "execution_count": 7,
   "metadata": {
    "execution": {
     "iopub.execute_input": "2020-12-26T08:47:05.071250Z",
     "iopub.status.busy": "2020-12-26T08:47:05.065988Z",
     "iopub.status.idle": "2020-12-26T08:47:05.203294Z",
     "shell.execute_reply": "2020-12-26T08:47:05.203899Z"
    },
    "papermill": {
     "duration": 0.158366,
     "end_time": "2020-12-26T08:47:05.204096",
     "exception": false,
     "start_time": "2020-12-26T08:47:05.045730",
     "status": "completed"
    },
    "tags": []
   },
   "outputs": [
    {
     "data": {
      "image/png": "[encoded data removed]",
      "text/plain": [
       "<Figure size 432x288 with 1 Axes>"
      ]
     },
     "metadata": {
      "needs_background": "light"
     },
     "output_type": "display_data"
    }
   ],
   "source": [
    "plt.scatter(x, y)\n",
    "plt.plot(x, model.predict(poly.fit_transform(x)), color=\"red\")\n",
    "plt.title('With degree 2')\n",
    "plt.xlabel('Level')\n",
    "plt.ylabel('Salary')\n",
    "plt.show()"
   ]
  },
  {
   "cell_type": "markdown",
   "metadata": {
    "papermill": {
     "duration": 0.012247,
     "end_time": "2020-12-26T08:47:05.228304",
     "exception": false,
     "start_time": "2020-12-26T08:47:05.216057",
     "status": "completed"
    },
    "tags": []
   },
   "source": [
    "<p style=\"color:darkorange; font-size:25px; font-weight:bold\">8. Visualization of polynomial regression with degree 3</p>"
   ]
  },
  {
   "cell_type": "code",
   "execution_count": 8,
   "metadata": {
    "execution": {
     "iopub.execute_input": "2020-12-26T08:47:05.266898Z",
     "iopub.status.busy": "2020-12-26T08:47:05.266253Z",
     "iopub.status.idle": "2020-12-26T08:47:05.396223Z",
     "shell.execute_reply": "2020-12-26T08:47:05.396719Z"
    },
    "papermill": {
     "duration": 0.155672,
     "end_time": "2020-12-26T08:47:05.396903",
     "exception": false,
     "start_time": "2020-12-26T08:47:05.241231",
     "status": "completed"
    },
    "tags": []
   },
   "outputs": [
    {
     "data": {
      "image/png": "[encoded data removed]",
      "text/plain": [
       "<Figure size 432x288 with 1 Axes>"
      ]
     },
     "metadata": {
      "needs_background": "light"
     },
     "output_type": "display_data"
    }
   ],
   "source": [
    "plt.scatter(x, y)\n",
    "plt.plot(x, model3.predict(poly3.fit_transform(x)), color=\"red\")\n",
    "plt.title('With degree 3')\n",
    "plt.xlabel('Level')\n",
    "plt.ylabel('Salary')\n",
    "plt.show()"
   ]
  },
  {
   "cell_type": "markdown",
   "metadata": {
    "papermill": {
     "duration": 0.012444,
     "end_time": "2020-12-26T08:47:05.422419",
     "exception": false,
     "start_time": "2020-12-26T08:47:05.409975",
     "status": "completed"
    },
    "tags": []
   },
   "source": [
    "<p style=\"color:darkorange; font-size:25px; font-weight:bold\">9. Visualization of polynomial regression with degree 4</p>"
   ]
  },
  {
   "cell_type": "code",
   "execution_count": 9,
   "metadata": {
    "execution": {
     "iopub.execute_input": "2020-12-26T08:47:05.463962Z",
     "iopub.status.busy": "2020-12-26T08:47:05.460049Z",
     "iopub.status.idle": "2020-12-26T08:47:05.595132Z",
     "shell.execute_reply": "2020-12-26T08:47:05.594367Z"
    },
    "papermill": {
     "duration": 0.159672,
     "end_time": "2020-12-26T08:47:05.595264",
     "exception": false,
     "start_time": "2020-12-26T08:47:05.435592",
     "status": "completed"
    },
    "tags": []
   },
   "outputs": [
    {
     "data": {
      "image/png": "[encoded data removed]",
      "text/plain": [
       "<Figure size 432x288 with 1 Axes>"
      ]
     },
     "metadata": {
      "needs_background": "light"
     },
     "output_type": "display_data"
    }
   ],
   "source": [
    "plt.scatter(x, y)\n",
    "plt.plot(x, model4.predict(poly4.fit_transform(x)), color=\"red\")\n",
    "plt.title('With degree 4')\n",
    "plt.xlabel('Level')\n",
    "plt.ylabel('Salary')\n",
    "plt.show()"
   ]
  },
  {
   "cell_type": "markdown",
   "metadata": {
    "papermill": {
     "duration": 0.012826,
     "end_time": "2020-12-26T08:47:05.621522",
     "exception": false,
     "start_time": "2020-12-26T08:47:05.608696",
     "status": "completed"
    },
    "tags": []
   },
   "source": [
    "<p style=\"color:darkorange; font-size:25px; font-weight:bold; text-align:center; text-decoration:underline\">Thank you</p>"
   ]
  }
 ],
 "metadata": {
  "kernelspec": {
   "display_name": "Python 3",
   "language": "python",
   "name": "python3"
  },
  "language_info": {
   "codemirror_mode": {
    "name": "ipython",
    "version": 3
   },
   "file_extension": ".py",
   "mimetype": "text/x-python",
   "name": "python",
   "nbconvert_exporter": "python",
   "pygments_lexer": "ipython3",
   "version": "3.7.6"
  },
  "papermill": {
   "duration": 7.639003,
   "end_time": "2020-12-26T08:47:05.742209",
   "environment_variables": {},
   "exception": null,
   "input_path": "__notebook__.ipynb",
   "output_path": "__notebook__.ipynb",
   "parameters": {},
   "start_time": "2020-12-26T08:46:58.103206",
   "version": "2.1.0"
  }
 },
 "nbformat": 4,
 "nbformat_minor": 4
}
